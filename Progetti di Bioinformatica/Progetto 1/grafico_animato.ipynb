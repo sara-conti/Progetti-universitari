{
 "cells": [
  {
   "cell_type": "code",
   "execution_count": 142,
   "id": "030f18f1-a25c-4ce3-b5d9-c00978f7ab1a",
   "metadata": {},
   "outputs": [],
   "source": [
    "import matplotlib\n",
    "import pandas as pd\n",
    "import matplotlib.pyplot as plt\n",
    "from matplotlib.animation import PillowWriter"
   ]
  },
  {
   "cell_type": "code",
   "execution_count": 143,
   "id": "da72f84e-f43f-4d35-b8e9-ff3dc6e0b5b5",
   "metadata": {},
   "outputs": [],
   "source": [
    "def caricafile(fname):\n",
    "    apri = open(fname,'r')\n",
    "    leggi = apri.readlines()[1:]\n",
    "    lista = []\n",
    "    for line in leggi:\n",
    "        line  = line.strip('\\r\\n').split(',')\n",
    "        time  = float(line[0])\n",
    "        lAPAP = float(line[1])\n",
    "        gAPAP = float(line[2])\n",
    "        pAPAP = float(line[3])\n",
    "        tAPAP = float(line[4])\n",
    "        \n",
    "        lista.append([time,lAPAP,gAPAP,pAPAP,tAPAP])\n",
    "        \n",
    "    return lista"
   ]
  },
  {
   "cell_type": "code",
   "execution_count": 144,
   "id": "bee9b8ea-2194-4303-b17c-dc1ef1b792b8",
   "metadata": {
    "tags": []
   },
   "outputs": [],
   "source": [
    "liste = caricafile('example.csv')\n",
    "liste = liste[1:10000:50]"
   ]
  },
  {
   "cell_type": "code",
   "execution_count": 145,
   "id": "f5e1512e-1e4a-4a06-ac84-ca13f24c40aa",
   "metadata": {},
   "outputs": [
    {
     "data": {
      "text/plain": [
       "(0.0, 1200.0)"
      ]
     },
     "execution_count": 145,
     "metadata": {},
     "output_type": "execute_result"
    },
    {
     "data": {
      "image/png": "[encoded data removed]",
      "text/plain": [
       "<Figure size 432x288 with 1 Axes>"
      ]
     },
     "metadata": {
      "needs_background": "light"
     },
     "output_type": "display_data"
    }
   ],
   "source": [
    "fig = plt.figure()\n",
    "l, = plt.plot([], [], 'k-')\n",
    "l2, = plt.plot([], [], 'm-')\n",
    "l3, = plt.plot([], [], 'g-')\n",
    "l4, = plt.plot([], [], 'b-')\n",
    "\n",
    "p1, = plt.plot([], [], 'k')\n",
    "p2, = plt.plot([], [], 'm')\n",
    "p3, = plt.plot([], [], 'm')\n",
    "p4, = plt.plot([], [], 'm')\n",
    "\n",
    "plt.xlabel('time')\n",
    "plt.ylabel('concentrazione(mg)')\n",
    "plt.title('Concentrazione di paracetamolo')\n",
    "\n",
    "plt.legend([\"lAPAP\", \"gAPAP\", \"pAPAP\", \"tAPAP\"])\n",
    "\n",
    "plt.xlim(0, 5)\n",
    "plt.ylim(0, 1200)"
   ]
  },
  {
   "cell_type": "code",
   "execution_count": 146,
   "id": "de7d0bd0-88ca-4d2b-8d12-063d99ed694a",
   "metadata": {
    "tags": []
   },
   "outputs": [],
   "source": [
    "xlist = []\n",
    "xlist2 = []\n",
    "xlist3 = []\n",
    "xlist4 = []\n",
    "\n",
    "ylist = []\n",
    "ylist2 = []\n",
    "ylist3 = []\n",
    "ylist4 = []\n",
    "\n",
    "metadata = dict(title='Movie', artist='codinglikemad')\n",
    "writer = PillowWriter(fps=15, metadata=metadata)"
   ]
  },
  {
   "cell_type": "code",
   "execution_count": 147,
   "id": "1ccf0461-34b8-4b8d-a538-64203c39e0b9",
   "metadata": {},
   "outputs": [],
   "source": [
    "i=0\n",
    "with writer.saving(fig, \"APAP.gif\", 100):\n",
    "    while i < len(liste)-1:\n",
    "\n",
    "        xlist.append(liste[i][0]) #time\n",
    "        xlist2.append(liste[i][0]) #time\n",
    "        xlist3.append(liste[i][0]) #time\n",
    "        xlist4.append(liste[i][0]) #time\n",
    "        \n",
    "        ylist.append(liste[i][1]) #lAPAP\n",
    "        ylist2.append(liste[i][2]) #gAPAP\n",
    "        ylist3.append(liste[i][3]) #pAPAP\n",
    "        ylist4.append(liste[i][4]) #tAPAP\n",
    "\n",
    "        l.set_data(xlist,ylist)\n",
    "        l2.set_data(xlist2,ylist2)\n",
    "        l3.set_data(xlist3,ylist3)\n",
    "        l4.set_data(xlist4,ylist4)\n",
    "\n",
    "        p1.set_data(liste[i][0],liste[i][1])\n",
    "        p2.set_data(liste[i][0],liste[i][2])\n",
    "        p3.set_data(liste[i][0],liste[i][3])\n",
    "        p4.set_data(liste[i][0],liste[i][4])\n",
    "        \n",
    "        writer.grab_frame()\n",
    "        i+=1"
   ]
  },
  {
   "cell_type": "code",
   "execution_count": null,
   "id": "394a0053-df60-4972-8fd6-a7352f0bdc4b",
   "metadata": {},
   "outputs": [],
   "source": []
  }
 ],
 "metadata": {
  "kernelspec": {
   "display_name": "Python 3 (ipykernel)",
   "language": "python",
   "name": "python3"
  },
  "language_info": {
   "codemirror_mode": {
    "name": "ipython",
    "version": 3
   },
   "file_extension": ".py",
   "mimetype": "text/x-python",
   "name": "python",
   "nbconvert_exporter": "python",
   "pygments_lexer": "ipython3",
   "version": "3.9.7"
  }
 },
 "nbformat": 4,
 "nbformat_minor": 5
}
